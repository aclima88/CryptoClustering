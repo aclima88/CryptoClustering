{
 "cells": [
  {
   "cell_type": "code",
   "execution_count": 6,
   "metadata": {
    "tags": []
   },
   "outputs": [
    {
     "name": "stdout",
     "output_type": "stream",
     "text": [
      "The holoviews.ipython extension is already loaded. To reload it, use:\n",
      "  %reload_ext holoviews.ipython\n"
     ]
    }
   ],
   "source": [
    "# Import required libraries and dependencies\n",
    "import pandas as pd\n",
    "import hvplot.pandas\n",
    "from sklearn.cluster import KMeans\n",
    "from sklearn.decomposition import PCA\n",
    "from sklearn.preprocessing import StandardScaler\n",
    "import matplotlib.pyplot as plt\n",
    "%load_ext holoviews.ipython"
   ]
  },
  {
   "cell_type": "code",
   "execution_count": 7,
   "metadata": {
    "tags": []
   },
   "outputs": [
    {
     "data": {
      "text/html": [
       "<div>\n",
       "<style scoped>\n",
       "    .dataframe tbody tr th:only-of-type {\n",
       "        vertical-align: middle;\n",
       "    }\n",
       "\n",
       "    .dataframe tbody tr th {\n",
       "        vertical-align: top;\n",
       "    }\n",
       "\n",
       "    .dataframe thead th {\n",
       "        text-align: right;\n",
       "    }\n",
       "</style>\n",
       "<table border=\"1\" class=\"dataframe\">\n",
       "  <thead>\n",
       "    <tr style=\"text-align: right;\">\n",
       "      <th></th>\n",
       "      <th>price_change_percentage_24h</th>\n",
       "      <th>price_change_percentage_7d</th>\n",
       "      <th>price_change_percentage_14d</th>\n",
       "      <th>price_change_percentage_30d</th>\n",
       "      <th>price_change_percentage_60d</th>\n",
       "      <th>price_change_percentage_200d</th>\n",
       "      <th>price_change_percentage_1y</th>\n",
       "    </tr>\n",
       "    <tr>\n",
       "      <th>coin_id</th>\n",
       "      <th></th>\n",
       "      <th></th>\n",
       "      <th></th>\n",
       "      <th></th>\n",
       "      <th></th>\n",
       "      <th></th>\n",
       "      <th></th>\n",
       "    </tr>\n",
       "  </thead>\n",
       "  <tbody>\n",
       "    <tr>\n",
       "      <th>bitcoin</th>\n",
       "      <td>1.08388</td>\n",
       "      <td>7.60278</td>\n",
       "      <td>6.57509</td>\n",
       "      <td>7.67258</td>\n",
       "      <td>-3.25185</td>\n",
       "      <td>83.51840</td>\n",
       "      <td>37.51761</td>\n",
       "    </tr>\n",
       "    <tr>\n",
       "      <th>ethereum</th>\n",
       "      <td>0.22392</td>\n",
       "      <td>10.38134</td>\n",
       "      <td>4.80849</td>\n",
       "      <td>0.13169</td>\n",
       "      <td>-12.88890</td>\n",
       "      <td>186.77418</td>\n",
       "      <td>101.96023</td>\n",
       "    </tr>\n",
       "    <tr>\n",
       "      <th>tether</th>\n",
       "      <td>-0.21173</td>\n",
       "      <td>0.04935</td>\n",
       "      <td>0.00640</td>\n",
       "      <td>-0.04237</td>\n",
       "      <td>0.28037</td>\n",
       "      <td>-0.00542</td>\n",
       "      <td>0.01954</td>\n",
       "    </tr>\n",
       "    <tr>\n",
       "      <th>ripple</th>\n",
       "      <td>-0.37819</td>\n",
       "      <td>-0.60926</td>\n",
       "      <td>2.24984</td>\n",
       "      <td>0.23455</td>\n",
       "      <td>-17.55245</td>\n",
       "      <td>39.53888</td>\n",
       "      <td>-16.60193</td>\n",
       "    </tr>\n",
       "    <tr>\n",
       "      <th>bitcoin-cash</th>\n",
       "      <td>2.90585</td>\n",
       "      <td>17.09717</td>\n",
       "      <td>14.75334</td>\n",
       "      <td>15.74903</td>\n",
       "      <td>-13.71793</td>\n",
       "      <td>21.66042</td>\n",
       "      <td>14.49384</td>\n",
       "    </tr>\n",
       "    <tr>\n",
       "      <th>binancecoin</th>\n",
       "      <td>2.10423</td>\n",
       "      <td>12.85511</td>\n",
       "      <td>6.80688</td>\n",
       "      <td>0.05865</td>\n",
       "      <td>36.33486</td>\n",
       "      <td>155.61937</td>\n",
       "      <td>69.69195</td>\n",
       "    </tr>\n",
       "    <tr>\n",
       "      <th>chainlink</th>\n",
       "      <td>-0.23935</td>\n",
       "      <td>20.69459</td>\n",
       "      <td>9.30098</td>\n",
       "      <td>-11.21747</td>\n",
       "      <td>-43.69522</td>\n",
       "      <td>403.22917</td>\n",
       "      <td>325.13186</td>\n",
       "    </tr>\n",
       "    <tr>\n",
       "      <th>cardano</th>\n",
       "      <td>0.00322</td>\n",
       "      <td>13.99302</td>\n",
       "      <td>5.55476</td>\n",
       "      <td>10.10553</td>\n",
       "      <td>-22.84776</td>\n",
       "      <td>264.51418</td>\n",
       "      <td>156.09756</td>\n",
       "    </tr>\n",
       "    <tr>\n",
       "      <th>litecoin</th>\n",
       "      <td>-0.06341</td>\n",
       "      <td>6.60221</td>\n",
       "      <td>7.28931</td>\n",
       "      <td>1.21662</td>\n",
       "      <td>-17.23960</td>\n",
       "      <td>27.49919</td>\n",
       "      <td>-12.66408</td>\n",
       "    </tr>\n",
       "    <tr>\n",
       "      <th>bitcoin-cash-sv</th>\n",
       "      <td>0.92530</td>\n",
       "      <td>3.29641</td>\n",
       "      <td>-1.86656</td>\n",
       "      <td>2.88926</td>\n",
       "      <td>-24.87434</td>\n",
       "      <td>7.42562</td>\n",
       "      <td>93.73082</td>\n",
       "    </tr>\n",
       "  </tbody>\n",
       "</table>\n",
       "</div>"
      ],
      "text/plain": [
       "                 price_change_percentage_24h  price_change_percentage_7d  \\\n",
       "coin_id                                                                    \n",
       "bitcoin                              1.08388                     7.60278   \n",
       "ethereum                             0.22392                    10.38134   \n",
       "tether                              -0.21173                     0.04935   \n",
       "ripple                              -0.37819                    -0.60926   \n",
       "bitcoin-cash                         2.90585                    17.09717   \n",
       "binancecoin                          2.10423                    12.85511   \n",
       "chainlink                           -0.23935                    20.69459   \n",
       "cardano                              0.00322                    13.99302   \n",
       "litecoin                            -0.06341                     6.60221   \n",
       "bitcoin-cash-sv                      0.92530                     3.29641   \n",
       "\n",
       "                 price_change_percentage_14d  price_change_percentage_30d  \\\n",
       "coin_id                                                                     \n",
       "bitcoin                              6.57509                      7.67258   \n",
       "ethereum                             4.80849                      0.13169   \n",
       "tether                               0.00640                     -0.04237   \n",
       "ripple                               2.24984                      0.23455   \n",
       "bitcoin-cash                        14.75334                     15.74903   \n",
       "binancecoin                          6.80688                      0.05865   \n",
       "chainlink                            9.30098                    -11.21747   \n",
       "cardano                              5.55476                     10.10553   \n",
       "litecoin                             7.28931                      1.21662   \n",
       "bitcoin-cash-sv                     -1.86656                      2.88926   \n",
       "\n",
       "                 price_change_percentage_60d  price_change_percentage_200d  \\\n",
       "coin_id                                                                      \n",
       "bitcoin                             -3.25185                      83.51840   \n",
       "ethereum                           -12.88890                     186.77418   \n",
       "tether                               0.28037                      -0.00542   \n",
       "ripple                             -17.55245                      39.53888   \n",
       "bitcoin-cash                       -13.71793                      21.66042   \n",
       "binancecoin                         36.33486                     155.61937   \n",
       "chainlink                          -43.69522                     403.22917   \n",
       "cardano                            -22.84776                     264.51418   \n",
       "litecoin                           -17.23960                      27.49919   \n",
       "bitcoin-cash-sv                    -24.87434                       7.42562   \n",
       "\n",
       "                 price_change_percentage_1y  \n",
       "coin_id                                      \n",
       "bitcoin                            37.51761  \n",
       "ethereum                          101.96023  \n",
       "tether                              0.01954  \n",
       "ripple                            -16.60193  \n",
       "bitcoin-cash                       14.49384  \n",
       "binancecoin                        69.69195  \n",
       "chainlink                         325.13186  \n",
       "cardano                           156.09756  \n",
       "litecoin                          -12.66408  \n",
       "bitcoin-cash-sv                    93.73082  "
      ]
     },
     "execution_count": 7,
     "metadata": {},
     "output_type": "execute_result"
    }
   ],
   "source": [
    "# Load the data into a Pandas DataFrame\n",
    "df_market_data = pd.read_csv(\n",
    "    \"Resources/crypto_market_data.csv\",\n",
    "    index_col=\"coin_id\")\n",
    "\n",
    "# Display sample data\n",
    "df_market_data.head(10)"
   ]
  },
  {
   "cell_type": "code",
   "execution_count": 8,
   "metadata": {
    "tags": []
   },
   "outputs": [
    {
     "data": {
      "text/html": [
       "<div>\n",
       "<style scoped>\n",
       "    .dataframe tbody tr th:only-of-type {\n",
       "        vertical-align: middle;\n",
       "    }\n",
       "\n",
       "    .dataframe tbody tr th {\n",
       "        vertical-align: top;\n",
       "    }\n",
       "\n",
       "    .dataframe thead th {\n",
       "        text-align: right;\n",
       "    }\n",
       "</style>\n",
       "<table border=\"1\" class=\"dataframe\">\n",
       "  <thead>\n",
       "    <tr style=\"text-align: right;\">\n",
       "      <th></th>\n",
       "      <th>price_change_percentage_24h</th>\n",
       "      <th>price_change_percentage_7d</th>\n",
       "      <th>price_change_percentage_14d</th>\n",
       "      <th>price_change_percentage_30d</th>\n",
       "      <th>price_change_percentage_60d</th>\n",
       "      <th>price_change_percentage_200d</th>\n",
       "      <th>price_change_percentage_1y</th>\n",
       "    </tr>\n",
       "  </thead>\n",
       "  <tbody>\n",
       "    <tr>\n",
       "      <th>count</th>\n",
       "      <td>41.000000</td>\n",
       "      <td>41.000000</td>\n",
       "      <td>41.000000</td>\n",
       "      <td>41.000000</td>\n",
       "      <td>41.000000</td>\n",
       "      <td>41.000000</td>\n",
       "      <td>41.000000</td>\n",
       "    </tr>\n",
       "    <tr>\n",
       "      <th>mean</th>\n",
       "      <td>-0.269686</td>\n",
       "      <td>4.497147</td>\n",
       "      <td>0.185787</td>\n",
       "      <td>1.545693</td>\n",
       "      <td>-0.094119</td>\n",
       "      <td>236.537432</td>\n",
       "      <td>347.667956</td>\n",
       "    </tr>\n",
       "    <tr>\n",
       "      <th>std</th>\n",
       "      <td>2.694793</td>\n",
       "      <td>6.375218</td>\n",
       "      <td>8.376939</td>\n",
       "      <td>26.344218</td>\n",
       "      <td>47.365803</td>\n",
       "      <td>435.225304</td>\n",
       "      <td>1247.842884</td>\n",
       "    </tr>\n",
       "    <tr>\n",
       "      <th>min</th>\n",
       "      <td>-13.527860</td>\n",
       "      <td>-6.094560</td>\n",
       "      <td>-18.158900</td>\n",
       "      <td>-34.705480</td>\n",
       "      <td>-44.822480</td>\n",
       "      <td>-0.392100</td>\n",
       "      <td>-17.567530</td>\n",
       "    </tr>\n",
       "    <tr>\n",
       "      <th>25%</th>\n",
       "      <td>-0.608970</td>\n",
       "      <td>0.047260</td>\n",
       "      <td>-5.026620</td>\n",
       "      <td>-10.438470</td>\n",
       "      <td>-25.907990</td>\n",
       "      <td>21.660420</td>\n",
       "      <td>0.406170</td>\n",
       "    </tr>\n",
       "    <tr>\n",
       "      <th>50%</th>\n",
       "      <td>-0.063410</td>\n",
       "      <td>3.296410</td>\n",
       "      <td>0.109740</td>\n",
       "      <td>-0.042370</td>\n",
       "      <td>-7.544550</td>\n",
       "      <td>83.905200</td>\n",
       "      <td>69.691950</td>\n",
       "    </tr>\n",
       "    <tr>\n",
       "      <th>75%</th>\n",
       "      <td>0.612090</td>\n",
       "      <td>7.602780</td>\n",
       "      <td>5.510740</td>\n",
       "      <td>4.578130</td>\n",
       "      <td>0.657260</td>\n",
       "      <td>216.177610</td>\n",
       "      <td>168.372510</td>\n",
       "    </tr>\n",
       "    <tr>\n",
       "      <th>max</th>\n",
       "      <td>4.840330</td>\n",
       "      <td>20.694590</td>\n",
       "      <td>24.239190</td>\n",
       "      <td>140.795700</td>\n",
       "      <td>223.064370</td>\n",
       "      <td>2227.927820</td>\n",
       "      <td>7852.089700</td>\n",
       "    </tr>\n",
       "  </tbody>\n",
       "</table>\n",
       "</div>"
      ],
      "text/plain": [
       "       price_change_percentage_24h  price_change_percentage_7d  \\\n",
       "count                    41.000000                   41.000000   \n",
       "mean                     -0.269686                    4.497147   \n",
       "std                       2.694793                    6.375218   \n",
       "min                     -13.527860                   -6.094560   \n",
       "25%                      -0.608970                    0.047260   \n",
       "50%                      -0.063410                    3.296410   \n",
       "75%                       0.612090                    7.602780   \n",
       "max                       4.840330                   20.694590   \n",
       "\n",
       "       price_change_percentage_14d  price_change_percentage_30d  \\\n",
       "count                    41.000000                    41.000000   \n",
       "mean                      0.185787                     1.545693   \n",
       "std                       8.376939                    26.344218   \n",
       "min                     -18.158900                   -34.705480   \n",
       "25%                      -5.026620                   -10.438470   \n",
       "50%                       0.109740                    -0.042370   \n",
       "75%                       5.510740                     4.578130   \n",
       "max                      24.239190                   140.795700   \n",
       "\n",
       "       price_change_percentage_60d  price_change_percentage_200d  \\\n",
       "count                    41.000000                     41.000000   \n",
       "mean                     -0.094119                    236.537432   \n",
       "std                      47.365803                    435.225304   \n",
       "min                     -44.822480                     -0.392100   \n",
       "25%                     -25.907990                     21.660420   \n",
       "50%                      -7.544550                     83.905200   \n",
       "75%                       0.657260                    216.177610   \n",
       "max                     223.064370                   2227.927820   \n",
       "\n",
       "       price_change_percentage_1y  \n",
       "count                   41.000000  \n",
       "mean                   347.667956  \n",
       "std                   1247.842884  \n",
       "min                    -17.567530  \n",
       "25%                      0.406170  \n",
       "50%                     69.691950  \n",
       "75%                    168.372510  \n",
       "max                   7852.089700  "
      ]
     },
     "execution_count": 8,
     "metadata": {},
     "output_type": "execute_result"
    }
   ],
   "source": [
    "# Generate summary statistics\n",
    "df_market_data.describe()"
   ]
  },
  {
   "cell_type": "code",
   "execution_count": 9,
   "metadata": {
    "tags": []
   },
   "outputs": [
    {
     "data": {
      "text/html": [
       "<img src='data:image/png;base64,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' style='max-width:100%; margin: auto; display: block; '/>"
      ],
      "text/plain": [
       ":NdOverlay   [Variable]\n",
       "   :Curve   [coin_id]   (value)"
      ]
     },
     "execution_count": 9,
     "metadata": {
      "application/vnd.holoviews_exec.v0+json": {}
     },
     "output_type": "execute_result"
    }
   ],
   "source": [
    "# Plot your data to see what's in your DataFrame\n",
    "df_market_data.hvplot.line(\n",
    "    width=800,\n",
    "    height=400,\n",
    "    rot=90\n",
    ")"
   ]
  },
  {
   "cell_type": "markdown",
   "metadata": {},
   "source": [
    "---"
   ]
  },
  {
   "cell_type": "markdown",
   "metadata": {},
   "source": [
    "### Prepare the Data"
   ]
  },
  {
   "cell_type": "code",
   "execution_count": 13,
   "metadata": {
    "tags": []
   },
   "outputs": [],
   "source": [
    "# Use the `StandardScaler()` module from scikit-learn to normalize the data from the CSV file\n",
    "market_data_scaled = StandardScaler().fit_transform(\n",
    "    df_market_data[[\"price_change_percentage_24h\", \"price_change_percentage_7d\", \"price_change_percentage_14d\", \"price_change_percentage_30d\", \"price_change_percentage_60d\", \"price_change_percentage_200d\", \"price_change_percentage_1y\"]]\n",
    ")"
   ]
  },
  {
   "cell_type": "code",
   "execution_count": 14,
   "metadata": {
    "tags": []
   },
   "outputs": [
    {
     "data": {
      "text/html": [
       "<div>\n",
       "<style scoped>\n",
       "    .dataframe tbody tr th:only-of-type {\n",
       "        vertical-align: middle;\n",
       "    }\n",
       "\n",
       "    .dataframe tbody tr th {\n",
       "        vertical-align: top;\n",
       "    }\n",
       "\n",
       "    .dataframe thead th {\n",
       "        text-align: right;\n",
       "    }\n",
       "</style>\n",
       "<table border=\"1\" class=\"dataframe\">\n",
       "  <thead>\n",
       "    <tr style=\"text-align: right;\">\n",
       "      <th></th>\n",
       "      <th>price_change_percentage_24h</th>\n",
       "      <th>price_change_percentage_7d</th>\n",
       "      <th>price_change_percentage_14d</th>\n",
       "      <th>price_change_percentage_30d</th>\n",
       "      <th>price_change_percentage_60d</th>\n",
       "      <th>price_change_percentage_200d</th>\n",
       "      <th>price_change_percentage_1y</th>\n",
       "    </tr>\n",
       "    <tr>\n",
       "      <th>Ticker</th>\n",
       "      <th></th>\n",
       "      <th></th>\n",
       "      <th></th>\n",
       "      <th></th>\n",
       "      <th></th>\n",
       "      <th></th>\n",
       "      <th></th>\n",
       "    </tr>\n",
       "  </thead>\n",
       "  <tbody>\n",
       "    <tr>\n",
       "      <th>bitcoin</th>\n",
       "      <td>0.508529</td>\n",
       "      <td>0.493193</td>\n",
       "      <td>0.772200</td>\n",
       "      <td>0.235460</td>\n",
       "      <td>-0.067495</td>\n",
       "      <td>-0.355953</td>\n",
       "      <td>-0.251637</td>\n",
       "    </tr>\n",
       "    <tr>\n",
       "      <th>ethereum</th>\n",
       "      <td>0.185446</td>\n",
       "      <td>0.934445</td>\n",
       "      <td>0.558692</td>\n",
       "      <td>-0.054341</td>\n",
       "      <td>-0.273483</td>\n",
       "      <td>-0.115759</td>\n",
       "      <td>-0.199352</td>\n",
       "    </tr>\n",
       "    <tr>\n",
       "      <th>tether</th>\n",
       "      <td>0.021774</td>\n",
       "      <td>-0.706337</td>\n",
       "      <td>-0.021680</td>\n",
       "      <td>-0.061030</td>\n",
       "      <td>0.008005</td>\n",
       "      <td>-0.550247</td>\n",
       "      <td>-0.282061</td>\n",
       "    </tr>\n",
       "    <tr>\n",
       "      <th>ripple</th>\n",
       "      <td>-0.040764</td>\n",
       "      <td>-0.810928</td>\n",
       "      <td>0.249458</td>\n",
       "      <td>-0.050388</td>\n",
       "      <td>-0.373164</td>\n",
       "      <td>-0.458259</td>\n",
       "      <td>-0.295546</td>\n",
       "    </tr>\n",
       "    <tr>\n",
       "      <th>bitcoin-cash</th>\n",
       "      <td>1.193036</td>\n",
       "      <td>2.000959</td>\n",
       "      <td>1.760610</td>\n",
       "      <td>0.545842</td>\n",
       "      <td>-0.291203</td>\n",
       "      <td>-0.499848</td>\n",
       "      <td>-0.270317</td>\n",
       "    </tr>\n",
       "  </tbody>\n",
       "</table>\n",
       "</div>"
      ],
      "text/plain": [
       "              price_change_percentage_24h  price_change_percentage_7d  \\\n",
       "Ticker                                                                  \n",
       "bitcoin                          0.508529                    0.493193   \n",
       "ethereum                         0.185446                    0.934445   \n",
       "tether                           0.021774                   -0.706337   \n",
       "ripple                          -0.040764                   -0.810928   \n",
       "bitcoin-cash                     1.193036                    2.000959   \n",
       "\n",
       "              price_change_percentage_14d  price_change_percentage_30d  \\\n",
       "Ticker                                                                   \n",
       "bitcoin                          0.772200                     0.235460   \n",
       "ethereum                         0.558692                    -0.054341   \n",
       "tether                          -0.021680                    -0.061030   \n",
       "ripple                           0.249458                    -0.050388   \n",
       "bitcoin-cash                     1.760610                     0.545842   \n",
       "\n",
       "              price_change_percentage_60d  price_change_percentage_200d  \\\n",
       "Ticker                                                                    \n",
       "bitcoin                         -0.067495                     -0.355953   \n",
       "ethereum                        -0.273483                     -0.115759   \n",
       "tether                           0.008005                     -0.550247   \n",
       "ripple                          -0.373164                     -0.458259   \n",
       "bitcoin-cash                    -0.291203                     -0.499848   \n",
       "\n",
       "              price_change_percentage_1y  \n",
       "Ticker                                    \n",
       "bitcoin                        -0.251637  \n",
       "ethereum                       -0.199352  \n",
       "tether                         -0.282061  \n",
       "ripple                         -0.295546  \n",
       "bitcoin-cash                   -0.270317  "
      ]
     },
     "execution_count": 14,
     "metadata": {},
     "output_type": "execute_result"
    }
   ],
   "source": [
    "# Create a DataFrame with the scaled data\n",
    "df_market_scaled = pd.DataFrame(\n",
    "    market_data_scaled,\n",
    "    columns=[\"price_change_percentage_24h\", \"price_change_percentage_7d\", \"price_change_percentage_14d\", \"price_change_percentage_30d\", \"price_change_percentage_60d\", \"price_change_percentage_200d\", \"price_change_percentage_1y\"]\n",
    ")\n",
    "\n",
    "# Copy the crypto names from the original data\n",
    "df_market_scaled[\"Ticker\"] = df_market_data.index\n",
    "\n",
    "# Set the coinid column as index\n",
    "df_market_scaled = df_market_scaled.set_index(\"Ticker\")\n",
    "\n",
    "# Display sample data\n",
    "df_market_scaled.head()\n"
   ]
  },
  {
   "cell_type": "markdown",
   "metadata": {},
   "source": [
    "---"
   ]
  },
  {
   "cell_type": "markdown",
   "metadata": {},
   "source": [
    "### Find the Best Value for k Using the Original Data."
   ]
  },
  {
   "cell_type": "code",
   "execution_count": 15,
   "metadata": {
    "tags": []
   },
   "outputs": [],
   "source": [
    "# Create a list with the number of k-values from 1 to 11\n",
    "k_values = list(range(1, 12))"
   ]
  },
  {
   "cell_type": "code",
   "execution_count": 16,
   "metadata": {
    "tags": []
   },
   "outputs": [],
   "source": [
    "# Create an empty list to store the inertia values\n",
    "inertia_values = []\n",
    "\n",
    "# Create a for loop to compute the inertia with each possible value of k\n",
    "for k in k_values:\n",
    "    # 1. Create a KMeans model with k clusters\n",
    "    kmeans = KMeans(n_clusters=k, n_init=10)\n",
    "    \n",
    "    # 2. Fit the model to the scaled data\n",
    "    kmeans.fit(df_market_scaled)\n",
    "    \n",
    "    # 3. Append the model's inertia to the inertia list\n",
    "    inertia_values.append(kmeans.inertia_)\n",
    "\n"
   ]
  },
  {
   "cell_type": "code",
   "execution_count": 17,
   "metadata": {
    "tags": []
   },
   "outputs": [
    {
     "data": {
      "text/html": [
       "<div>\n",
       "<style scoped>\n",
       "    .dataframe tbody tr th:only-of-type {\n",
       "        vertical-align: middle;\n",
       "    }\n",
       "\n",
       "    .dataframe tbody tr th {\n",
       "        vertical-align: top;\n",
       "    }\n",
       "\n",
       "    .dataframe thead th {\n",
       "        text-align: right;\n",
       "    }\n",
       "</style>\n",
       "<table border=\"1\" class=\"dataframe\">\n",
       "  <thead>\n",
       "    <tr style=\"text-align: right;\">\n",
       "      <th></th>\n",
       "      <th>k</th>\n",
       "      <th>inertia</th>\n",
       "    </tr>\n",
       "  </thead>\n",
       "  <tbody>\n",
       "    <tr>\n",
       "      <th>0</th>\n",
       "      <td>1</td>\n",
       "      <td>287.000000</td>\n",
       "    </tr>\n",
       "    <tr>\n",
       "      <th>1</th>\n",
       "      <td>2</td>\n",
       "      <td>198.571818</td>\n",
       "    </tr>\n",
       "    <tr>\n",
       "      <th>2</th>\n",
       "      <td>3</td>\n",
       "      <td>123.190482</td>\n",
       "    </tr>\n",
       "    <tr>\n",
       "      <th>3</th>\n",
       "      <td>4</td>\n",
       "      <td>79.022435</td>\n",
       "    </tr>\n",
       "    <tr>\n",
       "      <th>4</th>\n",
       "      <td>5</td>\n",
       "      <td>64.127997</td>\n",
       "    </tr>\n",
       "    <tr>\n",
       "      <th>5</th>\n",
       "      <td>6</td>\n",
       "      <td>52.933559</td>\n",
       "    </tr>\n",
       "    <tr>\n",
       "      <th>6</th>\n",
       "      <td>7</td>\n",
       "      <td>43.926256</td>\n",
       "    </tr>\n",
       "    <tr>\n",
       "      <th>7</th>\n",
       "      <td>8</td>\n",
       "      <td>36.791070</td>\n",
       "    </tr>\n",
       "    <tr>\n",
       "      <th>8</th>\n",
       "      <td>9</td>\n",
       "      <td>32.678899</td>\n",
       "    </tr>\n",
       "    <tr>\n",
       "      <th>9</th>\n",
       "      <td>10</td>\n",
       "      <td>29.081916</td>\n",
       "    </tr>\n",
       "    <tr>\n",
       "      <th>10</th>\n",
       "      <td>11</td>\n",
       "      <td>24.207889</td>\n",
       "    </tr>\n",
       "  </tbody>\n",
       "</table>\n",
       "</div>"
      ],
      "text/plain": [
       "     k     inertia\n",
       "0    1  287.000000\n",
       "1    2  198.571818\n",
       "2    3  123.190482\n",
       "3    4   79.022435\n",
       "4    5   64.127997\n",
       "5    6   52.933559\n",
       "6    7   43.926256\n",
       "7    8   36.791070\n",
       "8    9   32.678899\n",
       "9   10   29.081916\n",
       "10  11   24.207889"
      ]
     },
     "execution_count": 17,
     "metadata": {},
     "output_type": "execute_result"
    }
   ],
   "source": [
    "# Create a dictionary with k-values as keys and their corresponding inertia values\n",
    "elbow_data = {'k': k_values, 'inertia': inertia_values}\n",
    "\n",
    "# Create a DataFrame with the data for plotting the Elbow curve\n",
    "elbow_df = pd.DataFrame(elbow_data)\n",
    "\n",
    "# Display the DataFrame\n",
    "elbow_df\n"
   ]
  },
  {
   "cell_type": "code",
   "execution_count": 18,
   "metadata": {
    "tags": []
   },
   "outputs": [
    {
     "data": {
      "image/png": "[encoded data removed]",
      "text/plain": [
       "<Figure size 1000x600 with 1 Axes>"
      ]
     },
     "metadata": {},
     "output_type": "display_data"
    }
   ],
   "source": [
    "# Plot a line chart with all the inertia values computed with \n",
    "# the different values of k to visually identify the optimal value for k.\n",
    "\n",
    "# Plot the line chart\n",
    "plt.figure(figsize=(10, 6))\n",
    "plt.plot(elbow_df['k'], elbow_df['inertia'], marker='o', linestyle='-', color='b')\n",
    "plt.title('Elbow Curve')\n",
    "plt.xlabel('Number of Clusters (k)')\n",
    "plt.ylabel('Inertia')\n",
    "plt.grid(True)\n",
    "plt.show()\n"
   ]
  },
  {
   "cell_type": "markdown",
   "metadata": {},
   "source": [
    "#### Answer the following question: \n",
    "\n",
    "**Question:** What is the best value for `k`?\n",
    "\n",
    "**Answer:** The optimal value for k is likely 4. There might be an argument for it to be 5 instead, but it's difficult to know for sure without plotting the clusters."
   ]
  },
  {
   "cell_type": "markdown",
   "metadata": {},
   "source": [
    "---"
   ]
  },
  {
   "cell_type": "markdown",
   "metadata": {},
   "source": [
    "### Cluster Cryptocurrencies with K-means Using the Original Data"
   ]
  },
  {
   "cell_type": "code",
   "execution_count": 19,
   "metadata": {
    "tags": []
   },
   "outputs": [],
   "source": [
    "# Initialize the K-Means model using the best value for k\n",
    "model = KMeans(n_clusters=4, random_state=0, n_init=10)"
   ]
  },
  {
   "cell_type": "code",
   "execution_count": 20,
   "metadata": {
    "tags": []
   },
   "outputs": [
    {
     "data": {
      "text/html": [
       "<style>#sk-container-id-1 {color: black;background-color: white;}#sk-container-id-1 pre{padding: 0;}#sk-container-id-1 div.sk-toggleable {background-color: white;}#sk-container-id-1 label.sk-toggleable__label {cursor: pointer;display: block;width: 100%;margin-bottom: 0;padding: 0.3em;box-sizing: border-box;text-align: center;}#sk-container-id-1 label.sk-toggleable__label-arrow:before {content: \"▸\";float: left;margin-right: 0.25em;color: #696969;}#sk-container-id-1 label.sk-toggleable__label-arrow:hover:before {color: black;}#sk-container-id-1 div.sk-estimator:hover label.sk-toggleable__label-arrow:before {color: black;}#sk-container-id-1 div.sk-toggleable__content {max-height: 0;max-width: 0;overflow: hidden;text-align: left;background-color: #f0f8ff;}#sk-container-id-1 div.sk-toggleable__content pre {margin: 0.2em;color: black;border-radius: 0.25em;background-color: #f0f8ff;}#sk-container-id-1 input.sk-toggleable__control:checked~div.sk-toggleable__content {max-height: 200px;max-width: 100%;overflow: auto;}#sk-container-id-1 input.sk-toggleable__control:checked~label.sk-toggleable__label-arrow:before {content: \"▾\";}#sk-container-id-1 div.sk-estimator input.sk-toggleable__control:checked~label.sk-toggleable__label {background-color: #d4ebff;}#sk-container-id-1 div.sk-label input.sk-toggleable__control:checked~label.sk-toggleable__label {background-color: #d4ebff;}#sk-container-id-1 input.sk-hidden--visually {border: 0;clip: rect(1px 1px 1px 1px);clip: rect(1px, 1px, 1px, 1px);height: 1px;margin: -1px;overflow: hidden;padding: 0;position: absolute;width: 1px;}#sk-container-id-1 div.sk-estimator {font-family: monospace;background-color: #f0f8ff;border: 1px dotted black;border-radius: 0.25em;box-sizing: border-box;margin-bottom: 0.5em;}#sk-container-id-1 div.sk-estimator:hover {background-color: #d4ebff;}#sk-container-id-1 div.sk-parallel-item::after {content: \"\";width: 100%;border-bottom: 1px solid gray;flex-grow: 1;}#sk-container-id-1 div.sk-label:hover label.sk-toggleable__label {background-color: #d4ebff;}#sk-container-id-1 div.sk-serial::before {content: \"\";position: absolute;border-left: 1px solid gray;box-sizing: border-box;top: 0;bottom: 0;left: 50%;z-index: 0;}#sk-container-id-1 div.sk-serial {display: flex;flex-direction: column;align-items: center;background-color: white;padding-right: 0.2em;padding-left: 0.2em;position: relative;}#sk-container-id-1 div.sk-item {position: relative;z-index: 1;}#sk-container-id-1 div.sk-parallel {display: flex;align-items: stretch;justify-content: center;background-color: white;position: relative;}#sk-container-id-1 div.sk-item::before, #sk-container-id-1 div.sk-parallel-item::before {content: \"\";position: absolute;border-left: 1px solid gray;box-sizing: border-box;top: 0;bottom: 0;left: 50%;z-index: -1;}#sk-container-id-1 div.sk-parallel-item {display: flex;flex-direction: column;z-index: 1;position: relative;background-color: white;}#sk-container-id-1 div.sk-parallel-item:first-child::after {align-self: flex-end;width: 50%;}#sk-container-id-1 div.sk-parallel-item:last-child::after {align-self: flex-start;width: 50%;}#sk-container-id-1 div.sk-parallel-item:only-child::after {width: 0;}#sk-container-id-1 div.sk-dashed-wrapped {border: 1px dashed gray;margin: 0 0.4em 0.5em 0.4em;box-sizing: border-box;padding-bottom: 0.4em;background-color: white;}#sk-container-id-1 div.sk-label label {font-family: monospace;font-weight: bold;display: inline-block;line-height: 1.2em;}#sk-container-id-1 div.sk-label-container {text-align: center;}#sk-container-id-1 div.sk-container {/* jupyter's `normalize.less` sets `[hidden] { display: none; }` but bootstrap.min.css set `[hidden] { display: none !important; }` so we also need the `!important` here to be able to override the default hidden behavior on the sphinx rendered scikit-learn.org. See: https://github.com/scikit-learn/scikit-learn/issues/21755 */display: inline-block !important;position: relative;}#sk-container-id-1 div.sk-text-repr-fallback {display: none;}</style><div id=\"sk-container-id-1\" class=\"sk-top-container\"><div class=\"sk-text-repr-fallback\"><pre>KMeans(n_clusters=4, n_init=10, random_state=0)</pre><b>In a Jupyter environment, please rerun this cell to show the HTML representation or trust the notebook. <br />On GitHub, the HTML representation is unable to render, please try loading this page with nbviewer.org.</b></div><div class=\"sk-container\" hidden><div class=\"sk-item\"><div class=\"sk-estimator sk-toggleable\"><input class=\"sk-toggleable__control sk-hidden--visually\" id=\"sk-estimator-id-1\" type=\"checkbox\" checked><label for=\"sk-estimator-id-1\" class=\"sk-toggleable__label sk-toggleable__label-arrow\">KMeans</label><div class=\"sk-toggleable__content\"><pre>KMeans(n_clusters=4, n_init=10, random_state=0)</pre></div></div></div></div></div>"
      ],
      "text/plain": [
       "KMeans(n_clusters=4, n_init=10, random_state=0)"
      ]
     },
     "execution_count": 20,
     "metadata": {},
     "output_type": "execute_result"
    }
   ],
   "source": [
    "# Fit the K-Means model using the scaled data\n",
    "model.fit(df_market_scaled)"
   ]
  },
  {
   "cell_type": "code",
   "execution_count": 21,
   "metadata": {
    "tags": []
   },
   "outputs": [
    {
     "data": {
      "text/plain": [
       "array([0, 0, 3, 3, 0, 0, 0, 0, 0, 3, 3, 3, 3, 0, 3, 0, 3, 3, 0, 3, 3, 0,\n",
       "       3, 3, 3, 3, 3, 3, 0, 3, 3, 3, 1, 0, 3, 3, 2, 3, 3, 3, 3],\n",
       "      dtype=int32)"
      ]
     },
     "execution_count": 21,
     "metadata": {},
     "output_type": "execute_result"
    }
   ],
   "source": [
    "# Predict the clusters to group the cryptocurrencies using the scaled data\n",
    "k_4 = model.predict(df_market_scaled)\n",
    "\n",
    "# Print the resulting array of cluster values.\n",
    "k_4"
   ]
  },
  {
   "cell_type": "code",
   "execution_count": 22,
   "metadata": {
    "tags": []
   },
   "outputs": [],
   "source": [
    "# Create a copy of the DataFrame\n",
    "df_market_predictions = df_market_scaled.copy()"
   ]
  },
  {
   "cell_type": "code",
   "execution_count": 23,
   "metadata": {
    "tags": []
   },
   "outputs": [
    {
     "data": {
      "text/html": [
       "<div>\n",
       "<style scoped>\n",
       "    .dataframe tbody tr th:only-of-type {\n",
       "        vertical-align: middle;\n",
       "    }\n",
       "\n",
       "    .dataframe tbody tr th {\n",
       "        vertical-align: top;\n",
       "    }\n",
       "\n",
       "    .dataframe thead th {\n",
       "        text-align: right;\n",
       "    }\n",
       "</style>\n",
       "<table border=\"1\" class=\"dataframe\">\n",
       "  <thead>\n",
       "    <tr style=\"text-align: right;\">\n",
       "      <th></th>\n",
       "      <th>price_change_percentage_24h</th>\n",
       "      <th>price_change_percentage_7d</th>\n",
       "      <th>price_change_percentage_14d</th>\n",
       "      <th>price_change_percentage_30d</th>\n",
       "      <th>price_change_percentage_60d</th>\n",
       "      <th>price_change_percentage_200d</th>\n",
       "      <th>price_change_percentage_1y</th>\n",
       "      <th>Clusters</th>\n",
       "    </tr>\n",
       "    <tr>\n",
       "      <th>Ticker</th>\n",
       "      <th></th>\n",
       "      <th></th>\n",
       "      <th></th>\n",
       "      <th></th>\n",
       "      <th></th>\n",
       "      <th></th>\n",
       "      <th></th>\n",
       "      <th></th>\n",
       "    </tr>\n",
       "  </thead>\n",
       "  <tbody>\n",
       "    <tr>\n",
       "      <th>bitcoin</th>\n",
       "      <td>0.508529</td>\n",
       "      <td>0.493193</td>\n",
       "      <td>0.772200</td>\n",
       "      <td>0.235460</td>\n",
       "      <td>-0.067495</td>\n",
       "      <td>-0.355953</td>\n",
       "      <td>-0.251637</td>\n",
       "      <td>0</td>\n",
       "    </tr>\n",
       "    <tr>\n",
       "      <th>ethereum</th>\n",
       "      <td>0.185446</td>\n",
       "      <td>0.934445</td>\n",
       "      <td>0.558692</td>\n",
       "      <td>-0.054341</td>\n",
       "      <td>-0.273483</td>\n",
       "      <td>-0.115759</td>\n",
       "      <td>-0.199352</td>\n",
       "      <td>0</td>\n",
       "    </tr>\n",
       "    <tr>\n",
       "      <th>tether</th>\n",
       "      <td>0.021774</td>\n",
       "      <td>-0.706337</td>\n",
       "      <td>-0.021680</td>\n",
       "      <td>-0.061030</td>\n",
       "      <td>0.008005</td>\n",
       "      <td>-0.550247</td>\n",
       "      <td>-0.282061</td>\n",
       "      <td>3</td>\n",
       "    </tr>\n",
       "    <tr>\n",
       "      <th>ripple</th>\n",
       "      <td>-0.040764</td>\n",
       "      <td>-0.810928</td>\n",
       "      <td>0.249458</td>\n",
       "      <td>-0.050388</td>\n",
       "      <td>-0.373164</td>\n",
       "      <td>-0.458259</td>\n",
       "      <td>-0.295546</td>\n",
       "      <td>3</td>\n",
       "    </tr>\n",
       "    <tr>\n",
       "      <th>bitcoin-cash</th>\n",
       "      <td>1.193036</td>\n",
       "      <td>2.000959</td>\n",
       "      <td>1.760610</td>\n",
       "      <td>0.545842</td>\n",
       "      <td>-0.291203</td>\n",
       "      <td>-0.499848</td>\n",
       "      <td>-0.270317</td>\n",
       "      <td>0</td>\n",
       "    </tr>\n",
       "  </tbody>\n",
       "</table>\n",
       "</div>"
      ],
      "text/plain": [
       "              price_change_percentage_24h  price_change_percentage_7d  \\\n",
       "Ticker                                                                  \n",
       "bitcoin                          0.508529                    0.493193   \n",
       "ethereum                         0.185446                    0.934445   \n",
       "tether                           0.021774                   -0.706337   \n",
       "ripple                          -0.040764                   -0.810928   \n",
       "bitcoin-cash                     1.193036                    2.000959   \n",
       "\n",
       "              price_change_percentage_14d  price_change_percentage_30d  \\\n",
       "Ticker                                                                   \n",
       "bitcoin                          0.772200                     0.235460   \n",
       "ethereum                         0.558692                    -0.054341   \n",
       "tether                          -0.021680                    -0.061030   \n",
       "ripple                           0.249458                    -0.050388   \n",
       "bitcoin-cash                     1.760610                     0.545842   \n",
       "\n",
       "              price_change_percentage_60d  price_change_percentage_200d  \\\n",
       "Ticker                                                                    \n",
       "bitcoin                         -0.067495                     -0.355953   \n",
       "ethereum                        -0.273483                     -0.115759   \n",
       "tether                           0.008005                     -0.550247   \n",
       "ripple                          -0.373164                     -0.458259   \n",
       "bitcoin-cash                    -0.291203                     -0.499848   \n",
       "\n",
       "              price_change_percentage_1y  Clusters  \n",
       "Ticker                                              \n",
       "bitcoin                        -0.251637         0  \n",
       "ethereum                       -0.199352         0  \n",
       "tether                         -0.282061         3  \n",
       "ripple                         -0.295546         3  \n",
       "bitcoin-cash                   -0.270317         0  "
      ]
     },
     "execution_count": 23,
     "metadata": {},
     "output_type": "execute_result"
    }
   ],
   "source": [
    "# Add a new column to the DataFrame with the predicted clusters\n",
    "df_market_predictions[\"Clusters\"] = k_4\n",
    "\n",
    "# Display sample data\n",
    "df_market_predictions.head()"
   ]
  },
  {
   "cell_type": "code",
   "execution_count": 24,
   "metadata": {
    "tags": []
   },
   "outputs": [
    {
     "data": {
      "text/html": [
       "<img src='data:image/png;base64,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' style='max-width:100%; margin: auto; display: block; '/>"
      ],
      "text/plain": [
       ":Scatter   [price_change_percentage_24h]   (price_change_percentage_7d,Clusters,Ticker)"
      ]
     },
     "execution_count": 24,
     "metadata": {
      "application/vnd.holoviews_exec.v0+json": {}
     },
     "output_type": "execute_result"
    }
   ],
   "source": [
    "# Define a custom colormap with four distinct colors (0 to 3)\n",
    "custom_colormap = {0: \"red\", 1: \"green\", 2: \"blue\", 3: \"orange\"}\n",
    "\n",
    "# Create a scatter plot using hvPlot by setting \n",
    "scatter_plot = df_market_predictions.hvplot.scatter(\n",
    "    x=\"price_change_percentage_24h\", # `x=\"price_change_percentage_24h\"`\n",
    "    y=\"price_change_percentage_7d\", # `y=\"price_change_percentage_7d\"`. \n",
    "    c=\"Clusters\",  # Color the graph points with the labels found using K-Means\n",
    "    cmap=custom_colormap,\n",
    "    hover_cols=[\"Ticker\"], # add the crypto name in the `hover_cols` parameter to identify the cryptocurrency represented by each data point.\n",
    "    width=800,\n",
    "    height=400\n",
    ")\n",
    "\n",
    "# Display the scatter plot\n",
    "scatter_plot\n",
    "\n"
   ]
  },
  {
   "cell_type": "markdown",
   "metadata": {},
   "source": [
    "---"
   ]
  },
  {
   "cell_type": "markdown",
   "metadata": {},
   "source": [
    "### Optimize Clusters with Principal Component Analysis."
   ]
  },
  {
   "cell_type": "code",
   "execution_count": 25,
   "metadata": {
    "tags": []
   },
   "outputs": [],
   "source": [
    "# Create a PCA model instance and set `n_components=3`.\n",
    "pca = PCA(n_components=3)"
   ]
  },
  {
   "cell_type": "code",
   "execution_count": 26,
   "metadata": {
    "tags": []
   },
   "outputs": [
    {
     "data": {
      "text/plain": [
       "array([[ 2.03409288, -0.64157137, -0.35762863],\n",
       "       [ 1.99450168, -0.49054937, -0.91224962],\n",
       "       [-1.06854412, -0.41720452,  0.5963108 ],\n",
       "       [-1.04091865, -0.45523427,  0.4678008 ],\n",
       "       [ 3.30276384, -1.24245766, -0.217276  ]])"
      ]
     },
     "execution_count": 26,
     "metadata": {},
     "output_type": "execute_result"
    }
   ],
   "source": [
    "# Use the PCA model with `fit_transform` to reduce to \n",
    "# three principal components.\n",
    "market_pca_data = pca.fit_transform(df_market_predictions)\n",
    "\n",
    "# View the first five rows of the DataFrame. \n",
    "market_pca_data[:5]"
   ]
  },
  {
   "cell_type": "code",
   "execution_count": 27,
   "metadata": {
    "tags": []
   },
   "outputs": [
    {
     "data": {
      "text/plain": [
       "array([0.36941241, 0.29169375, 0.22893878])"
      ]
     },
     "execution_count": 27,
     "metadata": {},
     "output_type": "execute_result"
    }
   ],
   "source": [
    "# Retrieve the explained variance to determine how much information \n",
    "# can be attributed to each principal component.\n",
    "pca.explained_variance_ratio_"
   ]
  },
  {
   "cell_type": "markdown",
   "metadata": {},
   "source": [
    "#### Answer the following question: \n",
    "\n",
    "**Question:** What is the total explained variance of the three principal components?\n",
    "\n",
    "**Answer:** Total Explained Variance = 0.36941241 + 0.29169375 + 0.22893878\n",
    "\n",
    "Total Explained Variance ≈ 0.89004494"
   ]
  },
  {
   "cell_type": "code",
   "execution_count": 28,
   "metadata": {
    "tags": []
   },
   "outputs": [
    {
     "data": {
      "text/html": [
       "<div>\n",
       "<style scoped>\n",
       "    .dataframe tbody tr th:only-of-type {\n",
       "        vertical-align: middle;\n",
       "    }\n",
       "\n",
       "    .dataframe tbody tr th {\n",
       "        vertical-align: top;\n",
       "    }\n",
       "\n",
       "    .dataframe thead th {\n",
       "        text-align: right;\n",
       "    }\n",
       "</style>\n",
       "<table border=\"1\" class=\"dataframe\">\n",
       "  <thead>\n",
       "    <tr style=\"text-align: right;\">\n",
       "      <th></th>\n",
       "      <th>PC1</th>\n",
       "      <th>PC2</th>\n",
       "      <th>PC3</th>\n",
       "    </tr>\n",
       "    <tr>\n",
       "      <th>Ticker</th>\n",
       "      <th></th>\n",
       "      <th></th>\n",
       "      <th></th>\n",
       "    </tr>\n",
       "  </thead>\n",
       "  <tbody>\n",
       "    <tr>\n",
       "      <th>bitcoin</th>\n",
       "      <td>2.034093</td>\n",
       "      <td>-0.641571</td>\n",
       "      <td>-0.357629</td>\n",
       "    </tr>\n",
       "    <tr>\n",
       "      <th>ethereum</th>\n",
       "      <td>1.994502</td>\n",
       "      <td>-0.490549</td>\n",
       "      <td>-0.912250</td>\n",
       "    </tr>\n",
       "    <tr>\n",
       "      <th>tether</th>\n",
       "      <td>-1.068544</td>\n",
       "      <td>-0.417205</td>\n",
       "      <td>0.596311</td>\n",
       "    </tr>\n",
       "    <tr>\n",
       "      <th>ripple</th>\n",
       "      <td>-1.040919</td>\n",
       "      <td>-0.455234</td>\n",
       "      <td>0.467801</td>\n",
       "    </tr>\n",
       "    <tr>\n",
       "      <th>bitcoin-cash</th>\n",
       "      <td>3.302764</td>\n",
       "      <td>-1.242458</td>\n",
       "      <td>-0.217276</td>\n",
       "    </tr>\n",
       "  </tbody>\n",
       "</table>\n",
       "</div>"
      ],
      "text/plain": [
       "                   PC1       PC2       PC3\n",
       "Ticker                                    \n",
       "bitcoin       2.034093 -0.641571 -0.357629\n",
       "ethereum      1.994502 -0.490549 -0.912250\n",
       "tether       -1.068544 -0.417205  0.596311\n",
       "ripple       -1.040919 -0.455234  0.467801\n",
       "bitcoin-cash  3.302764 -1.242458 -0.217276"
      ]
     },
     "execution_count": 28,
     "metadata": {},
     "output_type": "execute_result"
    }
   ],
   "source": [
    "# Create a new DataFrame with the PCA data.\n",
    "df_market_pca = pd.DataFrame(market_pca_data, columns=[\"PC1\", \"PC2\", \"PC3\"])\n",
    "\n",
    "# Copy the crypto names from the original data\n",
    "df_market_pca[\"Ticker\"] = df_market_data.index\n",
    "\n",
    "# Set the coinid column as index\n",
    "df_market_pca = df_market_pca.set_index(\"Ticker\")\n",
    "\n",
    "# Display sample data\n",
    "df_market_pca.head() "
   ]
  },
  {
   "cell_type": "markdown",
   "metadata": {},
   "source": [
    "---"
   ]
  },
  {
   "cell_type": "markdown",
   "metadata": {},
   "source": [
    "### Find the Best Value for k Using the PCA Data"
   ]
  },
  {
   "cell_type": "code",
   "execution_count": 29,
   "metadata": {
    "tags": []
   },
   "outputs": [],
   "source": [
    "# Create a list with the number of k-values from 1 to 11\n",
    "PCA_k_values = list(range(1, 12))"
   ]
  },
  {
   "cell_type": "code",
   "execution_count": 30,
   "metadata": {
    "tags": []
   },
   "outputs": [],
   "source": [
    "# Create an empty list to store the inertia values\n",
    "PCA_inertia_values = []\n",
    "\n",
    "# Create a for loop to compute the inertia with each possible value of k\n",
    "for k in PCA_k_values:\n",
    "    # 1. Create a KMeans model using the loop counter for the n_clusters\n",
    "    kmeans = KMeans(n_clusters=k, n_init=10)\n",
    "    \n",
    "    # 2. Fit the model to the data using `df_market_pca`\n",
    "    kmeans.fit(df_market_pca)\n",
    "    \n",
    "    # 3. Append the model.inertia_ to the inertia list\n",
    "    PCA_inertia_values.append(kmeans.inertia_)"
   ]
  },
  {
   "cell_type": "code",
   "execution_count": 31,
   "metadata": {
    "tags": []
   },
   "outputs": [
    {
     "data": {
      "text/html": [
       "<div>\n",
       "<style scoped>\n",
       "    .dataframe tbody tr th:only-of-type {\n",
       "        vertical-align: middle;\n",
       "    }\n",
       "\n",
       "    .dataframe tbody tr th {\n",
       "        vertical-align: top;\n",
       "    }\n",
       "\n",
       "    .dataframe thead th {\n",
       "        text-align: right;\n",
       "    }\n",
       "</style>\n",
       "<table border=\"1\" class=\"dataframe\">\n",
       "  <thead>\n",
       "    <tr style=\"text-align: right;\">\n",
       "      <th></th>\n",
       "      <th>k</th>\n",
       "      <th>inertia</th>\n",
       "    </tr>\n",
       "  </thead>\n",
       "  <tbody>\n",
       "    <tr>\n",
       "      <th>0</th>\n",
       "      <td>1</td>\n",
       "      <td>325.734740</td>\n",
       "    </tr>\n",
       "    <tr>\n",
       "      <th>1</th>\n",
       "      <td>2</td>\n",
       "      <td>201.287622</td>\n",
       "    </tr>\n",
       "    <tr>\n",
       "      <th>2</th>\n",
       "      <td>3</td>\n",
       "      <td>111.736809</td>\n",
       "    </tr>\n",
       "    <tr>\n",
       "      <th>3</th>\n",
       "      <td>4</td>\n",
       "      <td>40.197284</td>\n",
       "    </tr>\n",
       "    <tr>\n",
       "      <th>4</th>\n",
       "      <td>5</td>\n",
       "      <td>29.945909</td>\n",
       "    </tr>\n",
       "    <tr>\n",
       "      <th>5</th>\n",
       "      <td>6</td>\n",
       "      <td>21.021516</td>\n",
       "    </tr>\n",
       "    <tr>\n",
       "      <th>6</th>\n",
       "      <td>7</td>\n",
       "      <td>15.454247</td>\n",
       "    </tr>\n",
       "    <tr>\n",
       "      <th>7</th>\n",
       "      <td>8</td>\n",
       "      <td>12.010275</td>\n",
       "    </tr>\n",
       "    <tr>\n",
       "      <th>8</th>\n",
       "      <td>9</td>\n",
       "      <td>10.313707</td>\n",
       "    </tr>\n",
       "    <tr>\n",
       "      <th>9</th>\n",
       "      <td>10</td>\n",
       "      <td>7.938235</td>\n",
       "    </tr>\n",
       "    <tr>\n",
       "      <th>10</th>\n",
       "      <td>11</td>\n",
       "      <td>6.611349</td>\n",
       "    </tr>\n",
       "  </tbody>\n",
       "</table>\n",
       "</div>"
      ],
      "text/plain": [
       "     k     inertia\n",
       "0    1  325.734740\n",
       "1    2  201.287622\n",
       "2    3  111.736809\n",
       "3    4   40.197284\n",
       "4    5   29.945909\n",
       "5    6   21.021516\n",
       "6    7   15.454247\n",
       "7    8   12.010275\n",
       "8    9   10.313707\n",
       "9   10    7.938235\n",
       "10  11    6.611349"
      ]
     },
     "execution_count": 31,
     "metadata": {},
     "output_type": "execute_result"
    }
   ],
   "source": [
    "# Create a dictionary with the data to plot the Elbow curve\n",
    "PCA_elbow_data = {'k': PCA_k_values, 'inertia': PCA_inertia_values}\n",
    "\n",
    "# Create a DataFrame with the data to plot the Elbow curve\n",
    "PCA_elbow_df = pd.DataFrame(PCA_elbow_data)\n",
    "\n",
    "# Display the DataFrame\n",
    "PCA_elbow_df"
   ]
  },
  {
   "cell_type": "code",
   "execution_count": 32,
   "metadata": {
    "tags": []
   },
   "outputs": [
    {
     "data": {
      "image/png": "[encoded data removed]",
      "text/plain": [
       "<Figure size 1000x600 with 1 Axes>"
      ]
     },
     "metadata": {},
     "output_type": "display_data"
    }
   ],
   "source": [
    "# Plot a line chart with all the inertia values computed with \n",
    "# the different values of k to visually identify the optimal value for k.\n",
    "plt.figure(figsize=(10, 6))\n",
    "plt.plot(PCA_elbow_df['k'], PCA_elbow_df['inertia'], marker='o', linestyle='-', color='b')\n",
    "plt.title('PCA Elbow Curve')\n",
    "plt.xlabel('Number of Clusters (k)')\n",
    "plt.ylabel('Inertia')\n",
    "plt.grid(True)\n",
    "plt.show()\n"
   ]
  },
  {
   "cell_type": "markdown",
   "metadata": {},
   "source": [
    "#### Answer the following questions: \n",
    "\n",
    "* **Question:** What is the best value for `k` when using the PCA data?\n",
    "\n",
    "  * **Answer:** The best value for k when using the PCA data is 4.\n",
    "\n",
    "\n",
    "* **Question:** Does it differ from the best k value found using the original data?\n",
    "\n",
    "  * **Answer:** It does not differ from the best k value found using the original data."
   ]
  },
  {
   "cell_type": "markdown",
   "metadata": {},
   "source": [
    "### Cluster Cryptocurrencies with K-means Using the PCA Data"
   ]
  },
  {
   "cell_type": "code",
   "execution_count": 33,
   "metadata": {
    "tags": []
   },
   "outputs": [],
   "source": [
    "# Initialize the K-Means model using the best value for k\n",
    "model_PCA = KMeans(n_clusters=4, random_state=0, n_init=10)"
   ]
  },
  {
   "cell_type": "code",
   "execution_count": 34,
   "metadata": {
    "tags": []
   },
   "outputs": [
    {
     "data": {
      "text/html": [
       "<style>#sk-container-id-2 {color: black;background-color: white;}#sk-container-id-2 pre{padding: 0;}#sk-container-id-2 div.sk-toggleable {background-color: white;}#sk-container-id-2 label.sk-toggleable__label {cursor: pointer;display: block;width: 100%;margin-bottom: 0;padding: 0.3em;box-sizing: border-box;text-align: center;}#sk-container-id-2 label.sk-toggleable__label-arrow:before {content: \"▸\";float: left;margin-right: 0.25em;color: #696969;}#sk-container-id-2 label.sk-toggleable__label-arrow:hover:before {color: black;}#sk-container-id-2 div.sk-estimator:hover label.sk-toggleable__label-arrow:before {color: black;}#sk-container-id-2 div.sk-toggleable__content {max-height: 0;max-width: 0;overflow: hidden;text-align: left;background-color: #f0f8ff;}#sk-container-id-2 div.sk-toggleable__content pre {margin: 0.2em;color: black;border-radius: 0.25em;background-color: #f0f8ff;}#sk-container-id-2 input.sk-toggleable__control:checked~div.sk-toggleable__content {max-height: 200px;max-width: 100%;overflow: auto;}#sk-container-id-2 input.sk-toggleable__control:checked~label.sk-toggleable__label-arrow:before {content: \"▾\";}#sk-container-id-2 div.sk-estimator input.sk-toggleable__control:checked~label.sk-toggleable__label {background-color: #d4ebff;}#sk-container-id-2 div.sk-label input.sk-toggleable__control:checked~label.sk-toggleable__label {background-color: #d4ebff;}#sk-container-id-2 input.sk-hidden--visually {border: 0;clip: rect(1px 1px 1px 1px);clip: rect(1px, 1px, 1px, 1px);height: 1px;margin: -1px;overflow: hidden;padding: 0;position: absolute;width: 1px;}#sk-container-id-2 div.sk-estimator {font-family: monospace;background-color: #f0f8ff;border: 1px dotted black;border-radius: 0.25em;box-sizing: border-box;margin-bottom: 0.5em;}#sk-container-id-2 div.sk-estimator:hover {background-color: #d4ebff;}#sk-container-id-2 div.sk-parallel-item::after {content: \"\";width: 100%;border-bottom: 1px solid gray;flex-grow: 1;}#sk-container-id-2 div.sk-label:hover label.sk-toggleable__label {background-color: #d4ebff;}#sk-container-id-2 div.sk-serial::before {content: \"\";position: absolute;border-left: 1px solid gray;box-sizing: border-box;top: 0;bottom: 0;left: 50%;z-index: 0;}#sk-container-id-2 div.sk-serial {display: flex;flex-direction: column;align-items: center;background-color: white;padding-right: 0.2em;padding-left: 0.2em;position: relative;}#sk-container-id-2 div.sk-item {position: relative;z-index: 1;}#sk-container-id-2 div.sk-parallel {display: flex;align-items: stretch;justify-content: center;background-color: white;position: relative;}#sk-container-id-2 div.sk-item::before, #sk-container-id-2 div.sk-parallel-item::before {content: \"\";position: absolute;border-left: 1px solid gray;box-sizing: border-box;top: 0;bottom: 0;left: 50%;z-index: -1;}#sk-container-id-2 div.sk-parallel-item {display: flex;flex-direction: column;z-index: 1;position: relative;background-color: white;}#sk-container-id-2 div.sk-parallel-item:first-child::after {align-self: flex-end;width: 50%;}#sk-container-id-2 div.sk-parallel-item:last-child::after {align-self: flex-start;width: 50%;}#sk-container-id-2 div.sk-parallel-item:only-child::after {width: 0;}#sk-container-id-2 div.sk-dashed-wrapped {border: 1px dashed gray;margin: 0 0.4em 0.5em 0.4em;box-sizing: border-box;padding-bottom: 0.4em;background-color: white;}#sk-container-id-2 div.sk-label label {font-family: monospace;font-weight: bold;display: inline-block;line-height: 1.2em;}#sk-container-id-2 div.sk-label-container {text-align: center;}#sk-container-id-2 div.sk-container {/* jupyter's `normalize.less` sets `[hidden] { display: none; }` but bootstrap.min.css set `[hidden] { display: none !important; }` so we also need the `!important` here to be able to override the default hidden behavior on the sphinx rendered scikit-learn.org. See: https://github.com/scikit-learn/scikit-learn/issues/21755 */display: inline-block !important;position: relative;}#sk-container-id-2 div.sk-text-repr-fallback {display: none;}</style><div id=\"sk-container-id-2\" class=\"sk-top-container\"><div class=\"sk-text-repr-fallback\"><pre>KMeans(n_clusters=4, n_init=10, random_state=0)</pre><b>In a Jupyter environment, please rerun this cell to show the HTML representation or trust the notebook. <br />On GitHub, the HTML representation is unable to render, please try loading this page with nbviewer.org.</b></div><div class=\"sk-container\" hidden><div class=\"sk-item\"><div class=\"sk-estimator sk-toggleable\"><input class=\"sk-toggleable__control sk-hidden--visually\" id=\"sk-estimator-id-2\" type=\"checkbox\" checked><label for=\"sk-estimator-id-2\" class=\"sk-toggleable__label sk-toggleable__label-arrow\">KMeans</label><div class=\"sk-toggleable__content\"><pre>KMeans(n_clusters=4, n_init=10, random_state=0)</pre></div></div></div></div></div>"
      ],
      "text/plain": [
       "KMeans(n_clusters=4, n_init=10, random_state=0)"
      ]
     },
     "execution_count": 34,
     "metadata": {},
     "output_type": "execute_result"
    }
   ],
   "source": [
    "# Fit the K-Means model using the PCA data\n",
    "model_PCA.fit(df_market_pca)"
   ]
  },
  {
   "cell_type": "code",
   "execution_count": 35,
   "metadata": {
    "tags": []
   },
   "outputs": [
    {
     "name": "stdout",
     "output_type": "stream",
     "text": [
      "[0 0 2 2 0 0 0 0 0 2 2 2 2 0 2 0 2 2 0 2 2 0 2 2 2 2 2 2 0 2 2 2 3 0 2 2 1\n",
      " 2 2 2 2]\n"
     ]
    }
   ],
   "source": [
    "# Predict the clusters using the K-Means model\n",
    "PCA_k4 = model_PCA.predict(df_market_pca)\n",
    "\n",
    "# Print the resulting array of cluster values\n",
    "print(PCA_k4)\n",
    "\n"
   ]
  },
  {
   "cell_type": "code",
   "execution_count": 36,
   "metadata": {
    "tags": []
   },
   "outputs": [
    {
     "data": {
      "text/html": [
       "<div>\n",
       "<style scoped>\n",
       "    .dataframe tbody tr th:only-of-type {\n",
       "        vertical-align: middle;\n",
       "    }\n",
       "\n",
       "    .dataframe tbody tr th {\n",
       "        vertical-align: top;\n",
       "    }\n",
       "\n",
       "    .dataframe thead th {\n",
       "        text-align: right;\n",
       "    }\n",
       "</style>\n",
       "<table border=\"1\" class=\"dataframe\">\n",
       "  <thead>\n",
       "    <tr style=\"text-align: right;\">\n",
       "      <th></th>\n",
       "      <th>PC1</th>\n",
       "      <th>PC2</th>\n",
       "      <th>PC3</th>\n",
       "      <th>Clusters</th>\n",
       "    </tr>\n",
       "    <tr>\n",
       "      <th>Ticker</th>\n",
       "      <th></th>\n",
       "      <th></th>\n",
       "      <th></th>\n",
       "      <th></th>\n",
       "    </tr>\n",
       "  </thead>\n",
       "  <tbody>\n",
       "    <tr>\n",
       "      <th>bitcoin</th>\n",
       "      <td>2.034093</td>\n",
       "      <td>-0.641571</td>\n",
       "      <td>-0.357629</td>\n",
       "      <td>0</td>\n",
       "    </tr>\n",
       "    <tr>\n",
       "      <th>ethereum</th>\n",
       "      <td>1.994502</td>\n",
       "      <td>-0.490549</td>\n",
       "      <td>-0.912250</td>\n",
       "      <td>0</td>\n",
       "    </tr>\n",
       "    <tr>\n",
       "      <th>tether</th>\n",
       "      <td>-1.068544</td>\n",
       "      <td>-0.417205</td>\n",
       "      <td>0.596311</td>\n",
       "      <td>2</td>\n",
       "    </tr>\n",
       "    <tr>\n",
       "      <th>ripple</th>\n",
       "      <td>-1.040919</td>\n",
       "      <td>-0.455234</td>\n",
       "      <td>0.467801</td>\n",
       "      <td>2</td>\n",
       "    </tr>\n",
       "    <tr>\n",
       "      <th>bitcoin-cash</th>\n",
       "      <td>3.302764</td>\n",
       "      <td>-1.242458</td>\n",
       "      <td>-0.217276</td>\n",
       "      <td>0</td>\n",
       "    </tr>\n",
       "  </tbody>\n",
       "</table>\n",
       "</div>"
      ],
      "text/plain": [
       "                   PC1       PC2       PC3  Clusters\n",
       "Ticker                                              \n",
       "bitcoin       2.034093 -0.641571 -0.357629         0\n",
       "ethereum      1.994502 -0.490549 -0.912250         0\n",
       "tether       -1.068544 -0.417205  0.596311         2\n",
       "ripple       -1.040919 -0.455234  0.467801         2\n",
       "bitcoin-cash  3.302764 -1.242458 -0.217276         0"
      ]
     },
     "execution_count": 36,
     "metadata": {},
     "output_type": "execute_result"
    }
   ],
   "source": [
    "# Create a copy of the DataFrame with the PCA data\n",
    "df_PCA_predictions = df_market_pca.copy()\n",
    "\n",
    "# Add a new column to the DataFrame with the predicted clusters\n",
    "df_PCA_predictions[\"Clusters\"] = PCA_k4\n",
    "\n",
    "# Display sample data\n",
    "df_PCA_predictions.head()"
   ]
  },
  {
   "cell_type": "code",
   "execution_count": 37,
   "metadata": {
    "tags": []
   },
   "outputs": [
    {
     "data": {
      "text/html": [
       "<img src='data:image/png;base64,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' style='max-width:100%; margin: auto; display: block; '/>"
      ],
      "text/plain": [
       ":Scatter   [PC1]   (PC2,Clusters,Ticker)"
      ]
     },
     "execution_count": 37,
     "metadata": {
      "application/vnd.holoviews_exec.v0+json": {}
     },
     "output_type": "execute_result"
    }
   ],
   "source": [
    "# Create a scatter plot using hvPlot by setting \n",
    "# `x=\"PC1\"` and `y=\"PC2\"`. \n",
    "# Color the graph points with the labels found using K-Means and \n",
    "# add the crypto name in the `hover_cols` parameter to identify \n",
    "# the cryptocurrency represented by each data point.\n",
    "\n",
    "# Create the scatter plot using hvPlot\n",
    "scatter_plot = df_PCA_predictions.hvplot.scatter(\n",
    "    x=\"PC1\",  # Set the x-axis to \"PC1\"\n",
    "    y=\"PC2\",  # Set the y-axis to \"PC2\"\n",
    "    c=\"Clusters\",  # Color the points with the K-Means cluster labels\n",
    "    cmap=\"Category10\",\n",
    "    hover_cols=[\"Ticker\"],  # Display the cryptocurrency name on hover\n",
    "    width=800,\n",
    "    height=400\n",
    ")\n",
    "\n",
    "# Display the scatter plot\n",
    "scatter_plot"
   ]
  },
  {
   "cell_type": "markdown",
   "metadata": {},
   "source": [
    "### Visualize and Compare the Results\n",
    "\n",
    "In this section, you will visually analyze the cluster analysis results by contrasting the outcome with and without using the optimization techniques."
   ]
  },
  {
   "cell_type": "code",
   "execution_count": 38,
   "metadata": {
    "tags": []
   },
   "outputs": [
    {
     "data": {
      "image/png": "[encoded data removed]",
      "text/plain": [
       "<Figure size 1200x500 with 2 Axes>"
      ]
     },
     "metadata": {},
     "output_type": "display_data"
    }
   ],
   "source": [
    "# Composite plot to contrast the Elbow curves\n",
    "# Create a figure with two subplots (for the original and PCA data)\n",
    "fig, (ax1, ax2) = plt.subplots(1, 2, figsize=(12, 5))\n",
    "\n",
    "# Plot the Elbow curve for the original dataset\n",
    "ax1.plot(PCA_elbow_df['k'], PCA_elbow_df['inertia'], marker='o', linestyle='-', color='b')\n",
    "ax1.set_title('Elbow Curve (Original Data)')\n",
    "ax1.set_xlabel('Number of Clusters (k)')\n",
    "ax1.set_ylabel('Inertia')\n",
    "\n",
    "# Plot the Elbow curve for the PCA-transformed dataset\n",
    "ax2.plot(PCA_elbow_df['k'], PCA_elbow_df['inertia'], marker='o', linestyle='-', color='r')\n",
    "ax2.set_title('Elbow Curve (PCA Data)')\n",
    "ax2.set_xlabel('Number of Clusters (k)')\n",
    "ax2.set_ylabel('Inertia')\n",
    "\n",
    "# Adjust the layout for better visualization\n",
    "plt.tight_layout()\n",
    "plt.show()"
   ]
  },
  {
   "cell_type": "code",
   "execution_count": 39,
   "metadata": {
    "tags": []
   },
   "outputs": [
    {
     "data": {
      "text/html": [
       "<img src='data:image/png;base64,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' style='max-width:100%; margin: auto; display: block; '/>"
      ],
      "text/plain": [
       ":Layout\n",
       "   .Scatter.I  :Scatter   [price_change_percentage_24h]   (price_change_percentage_7d,Clusters,Ticker)\n",
       "   .Scatter.II :Scatter   [PC1]   (PC2,Clusters,Ticker)"
      ]
     },
     "execution_count": 39,
     "metadata": {
      "application/vnd.holoviews_exec.v0+json": {}
     },
     "output_type": "execute_result"
    }
   ],
   "source": [
    "# Composite plot to contrast the clusters\n",
    "# Create a scatter plot for the original dataset\n",
    "scatter_original = df_market_predictions.hvplot.scatter(\n",
    "    x=\"price_change_percentage_24h\",\n",
    "    y=\"price_change_percentage_7d\",\n",
    "    c=\"Clusters\",  # Use the \"Clusters\" column for color\n",
    "    cmap=\"Category10\",  # Colormap for original dataset\n",
    "    hover_cols=[\"Ticker\"],\n",
    "    title=\"Original Data\"\n",
    ")\n",
    "\n",
    "# Create a scatter plot for the PCA-transformed dataset\n",
    "scatter_pca = df_PCA_predictions.hvplot.scatter(\n",
    "    x=\"PC1\",\n",
    "    y=\"PC2\",\n",
    "    c=\"Clusters\",  # Use the \"Clusters\" column for color\n",
    "    cmap=\"Category10\",  # Colormap for PCA dataset\n",
    "    hover_cols=[\"Ticker\"],\n",
    "    title=\"PCA Data\"\n",
    ")\n",
    "\n",
    "# Combine the two scatter plots into a composite plot\n",
    "composite_plot = scatter_original + scatter_pca\n",
    "\n",
    "# Display the composite plot\n",
    "composite_plot\n"
   ]
  },
  {
   "cell_type": "markdown",
   "metadata": {},
   "source": [
    "#### Answer the following question: \n",
    "\n",
    "  * **Question:** After visually analyzing the cluster analysis results, what is the impact of using fewer features to cluster the data using K-Means?\n",
    "\n",
    "  * **Answer:** \n",
    "By reducing the number of features, we simplify the dataset and make it more manageable. This can be especially helpful when dealing with high-dimensional data, where the original feature space is large. Additionally, fewer features lead to faster training and clustering with K-Means. The algorithm's time complexity is affected by the number of features, so reducing the feature space can significantly speed up the process, especially for large datasets."
   ]
  },
  {
   "cell_type": "code",
   "execution_count": null,
   "metadata": {},
   "outputs": [],
   "source": []
  }
 ],
 "metadata": {
  "kernelspec": {
   "display_name": "Python 3 (ipykernel)",
   "language": "python",
   "name": "python3"
  },
  "language_info": {
   "codemirror_mode": {
    "name": "ipython",
    "version": 3
   },
   "file_extension": ".py",
   "mimetype": "text/x-python",
   "name": "python",
   "nbconvert_exporter": "python",
   "pygments_lexer": "ipython3",
   "version": "3.10.11"
  },
  "nteract": {
   "version": "0.28.0"
  },
  "vscode": {
   "interpreter": {
    "hash": "40d3a090f54c6569ab1632332b64b2c03c39dcf918b08424e98f38b5ae0af88f"
   }
  }
 },
 "nbformat": 4,
 "nbformat_minor": 4
}
